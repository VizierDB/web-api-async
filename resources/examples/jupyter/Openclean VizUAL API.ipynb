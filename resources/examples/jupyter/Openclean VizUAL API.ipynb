{
 "cells": [
  {
   "cell_type": "code",
   "execution_count": 13,
   "metadata": {},
   "outputs": [],
   "source": [
    "import os\n",
    "\n",
    "from vizier.datastore.histore.base import HistoreDatastore\n",
    "from vizier.filestore.fs.base import FileSystemFilestore\n",
    "\n",
    "\n",
    "TMP_DIR = '../.tmp'\n",
    "\n",
    "fstore = FileSystemFilestore(os.path.join(TMP_DIR, 'fs'))\n",
    "dstore = HistoreDatastore(os.path.join(TMP_DIR, 'ds'))"
   ]
  },
  {
   "cell_type": "code",
   "execution_count": 14,
   "metadata": {},
   "outputs": [],
   "source": [
    "fh = fstore.upload_file('../data/etnx-8aft.tsv')"
   ]
  },
  {
   "cell_type": "code",
   "execution_count": 15,
   "metadata": {},
   "outputs": [],
   "source": [
    "from vizier.engine.packages.vizual.api.openclean import OpencleanVizualApi\n",
    "\n",
    "api = OpencleanVizualApi()"
   ]
  },
  {
   "cell_type": "code",
   "execution_count": 16,
   "metadata": {},
   "outputs": [],
   "source": [
    "r = api.load_dataset(datastore=dstore, filestore=fstore, file_id=fh.identifier, infer_types='datamartprofiler')\n",
    "\n",
    "ds = r.dataset\n",
    "dsid = ds.identifier"
   ]
  },
  {
   "cell_type": "code",
   "execution_count": 17,
   "metadata": {},
   "outputs": [],
   "source": [
    "r = api.insert_row(identifier=dsid, position=1, datastore=dstore)\n",
    "\n",
    "ds = r.dataset\n",
    "dsid = ds.identifier"
   ]
  },
  {
   "cell_type": "code",
   "execution_count": 18,
   "metadata": {},
   "outputs": [],
   "source": [
    "r = api.insert_column(identifier=dsid, name='My Col', position=1, datastore=dstore)\n",
    "\n",
    "ds = r.dataset\n",
    "dsid = ds.identifier"
   ]
  },
  {
   "cell_type": "code",
   "execution_count": 19,
   "metadata": {},
   "outputs": [],
   "source": [
    "r = api.move_column(identifier=dsid, column_id=ds.columns[1].identifier, position=8, datastore=dstore)\n",
    "\n",
    "ds = r.dataset\n",
    "dsid = ds.identifier"
   ]
  },
  {
   "cell_type": "code",
   "execution_count": 20,
   "metadata": {},
   "outputs": [],
   "source": [
    "r = api.move_row(identifier=dsid, rowid=10, position=0, datastore=dstore)\n",
    "\n",
    "ds = r.dataset\n",
    "dsid = ds.identifier"
   ]
  },
  {
   "cell_type": "code",
   "execution_count": 21,
   "metadata": {},
   "outputs": [],
   "source": [
    "r = api.rename_column(identifier=dsid, column_id=ds.columns[-1].identifier, name='nocol', datastore=dstore)\n",
    "\n",
    "ds = r.dataset\n",
    "dsid = ds.identifier"
   ]
  },
  {
   "cell_type": "code",
   "execution_count": 22,
   "metadata": {},
   "outputs": [],
   "source": [
    "r = api.delete_column(identifier=dsid, column_id=ds.columns[-1].identifier, datastore=dstore)\n",
    "\n",
    "ds = r.dataset\n",
    "dsid = ds.identifier"
   ]
  },
  {
   "cell_type": "code",
   "execution_count": 23,
   "metadata": {},
   "outputs": [],
   "source": [
    "r = api.delete_row(identifier=dsid, rowid=10, datastore=dstore)\n",
    "\n",
    "ds = r.dataset\n",
    "dsid = ds.identifier"
   ]
  },
  {
   "cell_type": "code",
   "execution_count": 26,
   "metadata": {},
   "outputs": [],
   "source": [
    "r = api.sort_dataset(\n",
    "    identifier=dsid,\n",
    "    columns=[ds.columns[0].identifier, ds.columns[1].identifier],\n",
    "    reversed=[False, True],\n",
    "    datastore=dstore\n",
    ")\n",
    "\n",
    "ds = r.dataset\n",
    "dsid = ds.identifier"
   ]
  },
  {
   "cell_type": "code",
   "execution_count": 28,
   "metadata": {},
   "outputs": [],
   "source": [
    "r = api.update_cell(identifier=dsid, columns=[], names=[], datastore=dstore)\n",
    "\n",
    "ds = r.dataset\n",
    "dsid = ds.identifier"
   ]
  },
  {
   "cell_type": "code",
   "execution_count": 31,
   "metadata": {},
   "outputs": [],
   "source": [
    "r = api.filter_columns(\n",
    "    identifier=dsid,\n",
    "    columns=[ds.columns[0].identifier, ds.columns[1].identifier, ds.columns[2].identifier],\n",
    "    names=['Year', 'Gender', 'Abuse'],\n",
    "    datastore=dstore,\n",
    ")\n",
    "\n",
    "ds = r.dataset\n",
    "dsid = ds.identifier"
   ]
  },
  {
   "cell_type": "code",
   "execution_count": 32,
   "metadata": {},
   "outputs": [
    {
     "data": {
      "text/html": [
       "<div>\n",
       "<style scoped>\n",
       "    .dataframe tbody tr th:only-of-type {\n",
       "        vertical-align: middle;\n",
       "    }\n",
       "\n",
       "    .dataframe tbody tr th {\n",
       "        vertical-align: top;\n",
       "    }\n",
       "\n",
       "    .dataframe thead th {\n",
       "        text-align: right;\n",
       "    }\n",
       "</style>\n",
       "<table border=\"1\" class=\"dataframe\">\n",
       "  <thead>\n",
       "    <tr style=\"text-align: right;\">\n",
       "      <th></th>\n",
       "      <th>Year</th>\n",
       "      <th>Gender</th>\n",
       "      <th>Abuse</th>\n",
       "    </tr>\n",
       "  </thead>\n",
       "  <tbody>\n",
       "    <tr>\n",
       "      <th>8</th>\n",
       "      <td>2014</td>\n",
       "      <td>Male</td>\n",
       "      <td>99</td>\n",
       "    </tr>\n",
       "    <tr>\n",
       "      <th>9</th>\n",
       "      <td>2014</td>\n",
       "      <td>Female</td>\n",
       "      <td>73</td>\n",
       "    </tr>\n",
       "    <tr>\n",
       "      <th>6</th>\n",
       "      <td>2015</td>\n",
       "      <td>Male</td>\n",
       "      <td>105</td>\n",
       "    </tr>\n",
       "    <tr>\n",
       "      <th>7</th>\n",
       "      <td>2015</td>\n",
       "      <td>Female</td>\n",
       "      <td>66</td>\n",
       "    </tr>\n",
       "    <tr>\n",
       "      <th>4</th>\n",
       "      <td>2016</td>\n",
       "      <td>Male</td>\n",
       "      <td>76</td>\n",
       "    </tr>\n",
       "    <tr>\n",
       "      <th>5</th>\n",
       "      <td>2016</td>\n",
       "      <td>Female</td>\n",
       "      <td>57</td>\n",
       "    </tr>\n",
       "    <tr>\n",
       "      <th>2</th>\n",
       "      <td>2017</td>\n",
       "      <td>Male</td>\n",
       "      <td>89</td>\n",
       "    </tr>\n",
       "    <tr>\n",
       "      <th>3</th>\n",
       "      <td>2017</td>\n",
       "      <td>Female</td>\n",
       "      <td>70</td>\n",
       "    </tr>\n",
       "    <tr>\n",
       "      <th>0</th>\n",
       "      <td>2018</td>\n",
       "      <td>Male</td>\n",
       "      <td>98</td>\n",
       "    </tr>\n",
       "    <tr>\n",
       "      <th>1</th>\n",
       "      <td>2018</td>\n",
       "      <td>Female</td>\n",
       "      <td>69</td>\n",
       "    </tr>\n",
       "  </tbody>\n",
       "</table>\n",
       "</div>"
      ],
      "text/plain": [
       "   Year  Gender  Abuse\n",
       "8  2014    Male     99\n",
       "9  2014  Female     73\n",
       "6  2015    Male    105\n",
       "7  2015  Female     66\n",
       "4  2016    Male     76\n",
       "5  2016  Female     57\n",
       "2  2017    Male     89\n",
       "3  2017  Female     70\n",
       "0  2018    Male     98\n",
       "1  2018  Female     69"
      ]
     },
     "execution_count": 32,
     "metadata": {},
     "output_type": "execute_result"
    }
   ],
   "source": [
    "ds.to_dataframe()"
   ]
  },
  {
   "cell_type": "code",
   "execution_count": 33,
   "metadata": {},
   "outputs": [],
   "source": [
    "# Clean up the temp directory\n",
    "import shutil\n",
    "\n",
    "shutil.rmtree(TMP_DIR)"
   ]
  },
  {
   "cell_type": "code",
   "execution_count": null,
   "metadata": {},
   "outputs": [],
   "source": []
  }
 ],
 "metadata": {
  "kernelspec": {
   "display_name": "Python 3",
   "language": "python",
   "name": "python3"
  },
  "language_info": {
   "codemirror_mode": {
    "name": "ipython",
    "version": 3
   },
   "file_extension": ".py",
   "mimetype": "text/x-python",
   "name": "python",
   "nbconvert_exporter": "python",
   "pygments_lexer": "ipython3",
   "version": "3.8.3"
  }
 },
 "nbformat": 4,
 "nbformat_minor": 4
}
