{
 "cells": [
  {
   "cell_type": "code",
   "execution_count": 1,
   "metadata": {},
   "outputs": [],
   "source": [
    "import pandas as pd\n",
    "\n",
    "df = pd.DataFrame(data=[[1, 2, 'A'], [2, 3, 'B'], [4, 5, 'C']], columns=['A', 'B', 'A'])"
   ]
  },
  {
   "cell_type": "code",
   "execution_count": 2,
   "metadata": {},
   "outputs": [],
   "source": [
    "from vizier.datastore.profiling.datamart import run"
   ]
  },
  {
   "cell_type": "code",
   "execution_count": 3,
   "metadata": {},
   "outputs": [],
   "source": [
    "metadata = run(df)"
   ]
  },
  {
   "cell_type": "code",
   "execution_count": 4,
   "metadata": {},
   "outputs": [
    {
     "name": "stdout",
     "output_type": "stream",
     "text": [
      "{\n",
      "    \"nb_rows\": 3,\n",
      "    \"nb_profiled_rows\": 3,\n",
      "    \"columns\": [\n",
      "        {\n",
      "            \"name\": \"A\",\n",
      "            \"structural_type\": \"http://schema.org/Integer\",\n",
      "            \"semantic_types\": [],\n",
      "            \"unclean_values_ratio\": 0.0,\n",
      "            \"num_distinct_values\": 3,\n",
      "            \"mean\": 2.3333333333333335,\n",
      "            \"stddev\": 1.247219128924647,\n",
      "            \"coverage\": [\n",
      "                {\n",
      "                    \"range\": {\n",
      "                        \"gte\": 1.0,\n",
      "                        \"lte\": 1.0\n",
      "                    }\n",
      "                },\n",
      "                {\n",
      "                    \"range\": {\n",
      "                        \"gte\": 2.0,\n",
      "                        \"lte\": 2.0\n",
      "                    }\n",
      "                },\n",
      "                {\n",
      "                    \"range\": {\n",
      "                        \"gte\": 4.0,\n",
      "                        \"lte\": 4.0\n",
      "                    }\n",
      "                }\n",
      "            ]\n",
      "        },\n",
      "        {\n",
      "            \"name\": \"B\",\n",
      "            \"structural_type\": \"http://schema.org/Integer\",\n",
      "            \"semantic_types\": [],\n",
      "            \"unclean_values_ratio\": 0.0,\n",
      "            \"num_distinct_values\": 3,\n",
      "            \"mean\": 3.3333333333333335,\n",
      "            \"stddev\": 1.247219128924647,\n",
      "            \"coverage\": [\n",
      "                {\n",
      "                    \"range\": {\n",
      "                        \"gte\": 2.0,\n",
      "                        \"lte\": 2.0\n",
      "                    }\n",
      "                },\n",
      "                {\n",
      "                    \"range\": {\n",
      "                        \"gte\": 3.0,\n",
      "                        \"lte\": 3.0\n",
      "                    }\n",
      "                },\n",
      "                {\n",
      "                    \"range\": {\n",
      "                        \"gte\": 5.0,\n",
      "                        \"lte\": 5.0\n",
      "                    }\n",
      "                }\n",
      "            ]\n",
      "        },\n",
      "        {\n",
      "            \"name\": \"A\",\n",
      "            \"structural_type\": \"http://schema.org/Text\",\n",
      "            \"semantic_types\": [],\n",
      "            \"num_distinct_values\": 3\n",
      "        }\n",
      "    ]\n",
      "}\n"
     ]
    }
   ],
   "source": [
    "import json\n",
    "print(json.dumps(metadata, indent=4))"
   ]
  },
  {
   "cell_type": "code",
   "execution_count": null,
   "metadata": {},
   "outputs": [],
   "source": []
  }
 ],
 "metadata": {
  "kernelspec": {
   "display_name": "Python 3",
   "language": "python",
   "name": "python3"
  },
  "language_info": {
   "codemirror_mode": {
    "name": "ipython",
    "version": 3
   },
   "file_extension": ".py",
   "mimetype": "text/x-python",
   "name": "python",
   "nbconvert_exporter": "python",
   "pygments_lexer": "ipython3",
   "version": "3.8.3"
  }
 },
 "nbformat": 4,
 "nbformat_minor": 4
}
