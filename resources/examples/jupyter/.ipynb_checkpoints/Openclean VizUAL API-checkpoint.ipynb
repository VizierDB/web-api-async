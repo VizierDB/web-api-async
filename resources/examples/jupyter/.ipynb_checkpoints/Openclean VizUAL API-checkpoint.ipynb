{
 "cells": [
  {
   "cell_type": "code",
   "execution_count": 1,
   "metadata": {},
   "outputs": [],
   "source": [
    "import os\n",
    "\n",
    "from vizier.datastore.histore.base import HistoreDatastore\n",
    "from vizier.filestore.fs.base import FileSystemFilestore\n",
    "\n",
    "\n",
    "TMP_DIR = '../.tmp'\n",
    "\n",
    "fstore = FileSystemFilestore(os.path.join(TMP_DIR, 'fs'))\n",
    "dstore = HistoreDatastore(os.path.join(TMP_DIR, 'ds'))"
   ]
  },
  {
   "cell_type": "code",
   "execution_count": 2,
   "metadata": {},
   "outputs": [],
   "source": [
    "fh = fstore.upload_file('../data/etnx-8aft.tsv')"
   ]
  },
  {
   "cell_type": "code",
   "execution_count": 3,
   "metadata": {},
   "outputs": [],
   "source": [
    "from vizier.engine.packages.vizual.api.openclean import OpencleanVizualApi\n",
    "\n",
    "api = OpencleanVizualApi()"
   ]
  },
  {
   "cell_type": "code",
   "execution_count": 4,
   "metadata": {},
   "outputs": [],
   "source": [
    "r = api.load_dataset(datastore=dstore, filestore=fstore, file_id=fh.identifier, infer_types='datamartprofiler')\n",
    "\n",
    "ds = r.dataset\n",
    "dsid = ds.identifier"
   ]
  },
  {
   "cell_type": "code",
   "execution_count": 5,
   "metadata": {},
   "outputs": [
    {
     "name": "stdout",
     "output_type": "stream",
     "text": [
      "2018 <class 'int'>\n",
      "2018 <class 'int'>\n",
      "2017 <class 'int'>\n",
      "2017 <class 'int'>\n",
      "2016 <class 'int'>\n",
      "2016 <class 'int'>\n",
      "2015 <class 'int'>\n",
      "2015 <class 'int'>\n",
      "2014 <class 'int'>\n",
      "2014 <class 'int'>\n"
     ]
    }
   ],
   "source": [
    "df = ds.to_dataframe()\n",
    "for x in df['Calendar Year']:\n",
    "    print('{} {}'.format(x, type(x)))"
   ]
  },
  {
   "cell_type": "code",
   "execution_count": 6,
   "metadata": {},
   "outputs": [
    {
     "data": {
      "text/plain": [
       "10"
      ]
     },
     "execution_count": 6,
     "metadata": {},
     "output_type": "execute_result"
    }
   ],
   "source": [
    "ds.row_count"
   ]
  },
  {
   "cell_type": "code",
   "execution_count": 7,
   "metadata": {},
   "outputs": [
    {
     "name": "stdout",
     "output_type": "stream",
     "text": [
      "{\n",
      "    \"nb_rows\": 10,\n",
      "    \"nb_profiled_rows\": 10,\n",
      "    \"columns\": [\n",
      "        {\n",
      "            \"name\": \"Calendar Year\",\n",
      "            \"structural_type\": \"http://schema.org/Integer\",\n",
      "            \"semantic_types\": [],\n",
      "            \"unclean_values_ratio\": 0.0,\n",
      "            \"num_distinct_values\": 5,\n",
      "            \"mean\": 2016.0,\n",
      "            \"stddev\": 1.4142135623730951,\n",
      "            \"coverage\": [\n",
      "                {\n",
      "                    \"range\": {\n",
      "                        \"gte\": 2014.0,\n",
      "                        \"lte\": 2015.0\n",
      "                    }\n",
      "                },\n",
      "                {\n",
      "                    \"range\": {\n",
      "                        \"gte\": 2016.0,\n",
      "                        \"lte\": 2016.0\n",
      "                    }\n",
      "                },\n",
      "                {\n",
      "                    \"range\": {\n",
      "                        \"gte\": 2017.0,\n",
      "                        \"lte\": 2018.0\n",
      "                    }\n",
      "                }\n",
      "            ]\n",
      "        },\n",
      "        {\n",
      "            \"name\": \"Gender\",\n",
      "            \"structural_type\": \"http://schema.org/Text\",\n",
      "            \"semantic_types\": [],\n",
      "            \"num_distinct_values\": 2\n",
      "        },\n",
      "        {\n",
      "            \"name\": \"Physical Abuse\",\n",
      "            \"structural_type\": \"http://schema.org/Integer\",\n",
      "            \"semantic_types\": [],\n",
      "            \"unclean_values_ratio\": 0.0,\n",
      "            \"num_distinct_values\": 10,\n",
      "            \"mean\": 79.1,\n",
      "            \"stddev\": 14.48067677976413,\n",
      "            \"coverage\": [\n",
      "                {\n",
      "                    \"range\": {\n",
      "                        \"gte\": 57.0,\n",
      "                        \"lte\": 76.0\n",
      "                    }\n",
      "                },\n",
      "                {\n",
      "                    \"range\": {\n",
      "                        \"gte\": 88.0,\n",
      "                        \"lte\": 89.0\n",
      "                    }\n",
      "                },\n",
      "                {\n",
      "                    \"range\": {\n",
      "                        \"gte\": 98.0,\n",
      "                        \"lte\": 105.0\n",
      "                    }\n",
      "                }\n",
      "            ]\n",
      "        },\n",
      "        {\n",
      "            \"name\": \"Sexual Abuse\",\n",
      "            \"structural_type\": \"http://schema.org/Integer\",\n",
      "            \"semantic_types\": [],\n",
      "            \"unclean_values_ratio\": 0.0,\n",
      "            \"num_distinct_values\": 10,\n",
      "            \"mean\": 174.3,\n",
      "            \"stddev\": 108.94957549251856,\n",
      "            \"coverage\": [\n",
      "                {\n",
      "                    \"range\": {\n",
      "                        \"gte\": 52.0,\n",
      "                        \"lte\": 63.0\n",
      "                    }\n",
      "                },\n",
      "                {\n",
      "                    \"range\": {\n",
      "                        \"gte\": 95.0,\n",
      "                        \"lte\": 95.0\n",
      "                    }\n",
      "                },\n",
      "                {\n",
      "                    \"range\": {\n",
      "                        \"gte\": 259.0,\n",
      "                        \"lte\": 306.0\n",
      "                    }\n",
      "                }\n",
      "            ]\n",
      "        },\n",
      "        {\n",
      "            \"name\": \"Risk of Sexual Abuse\",\n",
      "            \"structural_type\": \"http://schema.org/Integer\",\n",
      "            \"semantic_types\": [],\n",
      "            \"unclean_values_ratio\": 0.0,\n",
      "            \"num_distinct_values\": 9,\n",
      "            \"mean\": 63.9,\n",
      "            \"stddev\": 30.306599941266914,\n",
      "            \"coverage\": [\n",
      "                {\n",
      "                    \"range\": {\n",
      "                        \"gte\": 21.0,\n",
      "                        \"lte\": 54.0\n",
      "                    }\n",
      "                },\n",
      "                {\n",
      "                    \"range\": {\n",
      "                        \"gte\": 61.0,\n",
      "                        \"lte\": 89.0\n",
      "                    }\n",
      "                },\n",
      "                {\n",
      "                    \"range\": {\n",
      "                        \"gte\": 134.0,\n",
      "                        \"lte\": 134.0\n",
      "                    }\n",
      "                }\n",
      "            ]\n",
      "        },\n",
      "        {\n",
      "            \"name\": \"Risk of Harm\",\n",
      "            \"structural_type\": \"http://schema.org/Integer\",\n",
      "            \"semantic_types\": [],\n",
      "            \"unclean_values_ratio\": 0.0,\n",
      "            \"num_distinct_values\": 9,\n",
      "            \"mean\": 227.7,\n",
      "            \"stddev\": 33.68694108998322,\n",
      "            \"coverage\": [\n",
      "                {\n",
      "                    \"range\": {\n",
      "                        \"gte\": 177.0,\n",
      "                        \"lte\": 216.0\n",
      "                    }\n",
      "                },\n",
      "                {\n",
      "                    \"range\": {\n",
      "                        \"gte\": 244.0,\n",
      "                        \"lte\": 267.0\n",
      "                    }\n",
      "                },\n",
      "                {\n",
      "                    \"range\": {\n",
      "                        \"gte\": 293.0,\n",
      "                        \"lte\": 293.0\n",
      "                    }\n",
      "                }\n",
      "            ]\n",
      "        },\n",
      "        {\n",
      "            \"name\": \"Emotional/Neglect\",\n",
      "            \"structural_type\": \"http://schema.org/Integer\",\n",
      "            \"semantic_types\": [],\n",
      "            \"unclean_values_ratio\": 0.0,\n",
      "            \"num_distinct_values\": 7,\n",
      "            \"mean\": 21.2,\n",
      "            \"stddev\": 5.287721626560914,\n",
      "            \"coverage\": [\n",
      "                {\n",
      "                    \"range\": {\n",
      "                        \"gte\": 14.0,\n",
      "                        \"lte\": 18.0\n",
      "                    }\n",
      "                },\n",
      "                {\n",
      "                    \"range\": {\n",
      "                        \"gte\": 20.0,\n",
      "                        \"lte\": 24.0\n",
      "                    }\n",
      "                },\n",
      "                {\n",
      "                    \"range\": {\n",
      "                        \"gte\": 27.0,\n",
      "                        \"lte\": 29.0\n",
      "                    }\n",
      "                }\n",
      "            ]\n",
      "        }\n",
      "    ]\n",
      "}\n"
     ]
    }
   ],
   "source": [
    "import json\n",
    "print(json.dumps(ds.profile(), indent=4))"
   ]
  },
  {
   "cell_type": "code",
   "execution_count": 8,
   "metadata": {},
   "outputs": [
    {
     "name": "stdout",
     "output_type": "stream",
     "text": [
      "0 Calendar Year int\n",
      "1 Gender varchar\n",
      "2 Physical Abuse int\n",
      "3 Sexual Abuse int\n",
      "4 Risk of Sexual Abuse int\n",
      "5 Risk of Harm int\n",
      "6 Emotional/Neglect int\n"
     ]
    }
   ],
   "source": [
    "for column in ds.columns:\n",
    "    print('{} {} {}'.format(column.identifier, column.name, column.data_type))"
   ]
  },
  {
   "cell_type": "code",
   "execution_count": 9,
   "metadata": {},
   "outputs": [],
   "source": [
    "r = api.insert_row(identifier=dsid, position=1, datastore=dstore)\n",
    "\n",
    "ds = r.dataset\n",
    "dsid = ds.identifier"
   ]
  },
  {
   "cell_type": "code",
   "execution_count": 10,
   "metadata": {},
   "outputs": [
    {
     "name": "stdout",
     "output_type": "stream",
     "text": [
      "{\n",
      "    \"nb_rows\": 11,\n",
      "    \"nb_profiled_rows\": 11,\n",
      "    \"columns\": [\n",
      "        {\n",
      "            \"name\": \"Calendar Year\",\n",
      "            \"structural_type\": \"http://schema.org/Text\",\n",
      "            \"semantic_types\": [],\n",
      "            \"num_distinct_values\": 6\n",
      "        },\n",
      "        {\n",
      "            \"name\": \"Gender\",\n",
      "            \"structural_type\": \"http://schema.org/Text\",\n",
      "            \"semantic_types\": [],\n",
      "            \"num_distinct_values\": 3\n",
      "        },\n",
      "        {\n",
      "            \"name\": \"Physical Abuse\",\n",
      "            \"structural_type\": \"http://schema.org/Text\",\n",
      "            \"semantic_types\": [],\n",
      "            \"num_distinct_values\": 11\n",
      "        },\n",
      "        {\n",
      "            \"name\": \"Sexual Abuse\",\n",
      "            \"structural_type\": \"http://schema.org/Text\",\n",
      "            \"semantic_types\": [],\n",
      "            \"num_distinct_values\": 11\n",
      "        },\n",
      "        {\n",
      "            \"name\": \"Risk of Sexual Abuse\",\n",
      "            \"structural_type\": \"http://schema.org/Text\",\n",
      "            \"semantic_types\": [],\n",
      "            \"num_distinct_values\": 10\n",
      "        },\n",
      "        {\n",
      "            \"name\": \"Risk of Harm\",\n",
      "            \"structural_type\": \"http://schema.org/Text\",\n",
      "            \"semantic_types\": [],\n",
      "            \"num_distinct_values\": 10\n",
      "        },\n",
      "        {\n",
      "            \"name\": \"Emotional/Neglect\",\n",
      "            \"structural_type\": \"http://schema.org/Text\",\n",
      "            \"semantic_types\": [],\n",
      "            \"num_distinct_values\": 8\n",
      "        }\n",
      "    ]\n",
      "}\n"
     ]
    }
   ],
   "source": [
    "print(json.dumps(ds.profile(), indent=4))"
   ]
  },
  {
   "cell_type": "code",
   "execution_count": 11,
   "metadata": {},
   "outputs": [
    {
     "name": "stdout",
     "output_type": "stream",
     "text": [
      "2018.0 <class 'float'>\n",
      "nan <class 'float'>\n",
      "2018.0 <class 'float'>\n",
      "2017.0 <class 'float'>\n",
      "2017.0 <class 'float'>\n",
      "2016.0 <class 'float'>\n",
      "2016.0 <class 'float'>\n",
      "2015.0 <class 'float'>\n",
      "2015.0 <class 'float'>\n",
      "2014.0 <class 'float'>\n",
      "2014.0 <class 'float'>\n"
     ]
    }
   ],
   "source": [
    "df = ds.to_dataframe()\n",
    "for x in df['Calendar Year']:\n",
    "    print('{} {}'.format(x, type(x)))"
   ]
  },
  {
   "cell_type": "code",
   "execution_count": 12,
   "metadata": {},
   "outputs": [
    {
     "name": "stdout",
     "output_type": "stream",
     "text": [
      "0 Calendar Year varchar\n",
      "1 Gender varchar\n",
      "2 Physical Abuse varchar\n",
      "3 Sexual Abuse varchar\n",
      "4 Risk of Sexual Abuse varchar\n",
      "5 Risk of Harm varchar\n",
      "6 Emotional/Neglect varchar\n"
     ]
    }
   ],
   "source": [
    "for column in ds.columns:\n",
    "    print('{} {} {}'.format(column.identifier, column.name, column.data_type))"
   ]
  },
  {
   "cell_type": "code",
   "execution_count": 13,
   "metadata": {},
   "outputs": [],
   "source": [
    "r = api.insert_column(identifier=dsid, name='My Col', position=1, datastore=dstore)\n",
    "\n",
    "ds = r.dataset\n",
    "dsid = ds.identifier"
   ]
  },
  {
   "cell_type": "code",
   "execution_count": 14,
   "metadata": {},
   "outputs": [
    {
     "name": "stdout",
     "output_type": "stream",
     "text": [
      "{\n",
      "    \"nb_rows\": 11,\n",
      "    \"nb_profiled_rows\": 11,\n",
      "    \"columns\": [\n",
      "        {\n",
      "            \"name\": \"Calendar Year\",\n",
      "            \"structural_type\": \"http://schema.org/Text\",\n",
      "            \"semantic_types\": [],\n",
      "            \"num_distinct_values\": 6\n",
      "        },\n",
      "        {\n",
      "            \"name\": \"My Col\",\n",
      "            \"structural_type\": \"http://schema.org/Text\",\n",
      "            \"semantic_types\": [\n",
      "                \"http://schema.org/Enumeration\"\n",
      "            ],\n",
      "            \"num_distinct_values\": 1\n",
      "        },\n",
      "        {\n",
      "            \"name\": \"Gender\",\n",
      "            \"structural_type\": \"http://schema.org/Text\",\n",
      "            \"semantic_types\": [],\n",
      "            \"num_distinct_values\": 3\n",
      "        },\n",
      "        {\n",
      "            \"name\": \"Physical Abuse\",\n",
      "            \"structural_type\": \"http://schema.org/Text\",\n",
      "            \"semantic_types\": [],\n",
      "            \"num_distinct_values\": 11\n",
      "        },\n",
      "        {\n",
      "            \"name\": \"Sexual Abuse\",\n",
      "            \"structural_type\": \"http://schema.org/Text\",\n",
      "            \"semantic_types\": [],\n",
      "            \"num_distinct_values\": 11\n",
      "        },\n",
      "        {\n",
      "            \"name\": \"Risk of Sexual Abuse\",\n",
      "            \"structural_type\": \"http://schema.org/Text\",\n",
      "            \"semantic_types\": [],\n",
      "            \"num_distinct_values\": 10\n",
      "        },\n",
      "        {\n",
      "            \"name\": \"Risk of Harm\",\n",
      "            \"structural_type\": \"http://schema.org/Text\",\n",
      "            \"semantic_types\": [],\n",
      "            \"num_distinct_values\": 10\n",
      "        },\n",
      "        {\n",
      "            \"name\": \"Emotional/Neglect\",\n",
      "            \"structural_type\": \"http://schema.org/Text\",\n",
      "            \"semantic_types\": [],\n",
      "            \"num_distinct_values\": 8\n",
      "        }\n",
      "    ]\n",
      "}\n"
     ]
    }
   ],
   "source": [
    "print(json.dumps(ds.profile(), indent=4))"
   ]
  },
  {
   "cell_type": "code",
   "execution_count": 15,
   "metadata": {},
   "outputs": [
    {
     "name": "stdout",
     "output_type": "stream",
     "text": [
      "0 Calendar Year varchar\n",
      "7 My Col categorical\n",
      "1 Gender varchar\n",
      "2 Physical Abuse varchar\n",
      "3 Sexual Abuse varchar\n",
      "4 Risk of Sexual Abuse varchar\n",
      "5 Risk of Harm varchar\n",
      "6 Emotional/Neglect varchar\n"
     ]
    }
   ],
   "source": [
    "for column in ds.columns:\n",
    "    print('{} {} {}'.format(column.identifier, column.name, column.data_type))"
   ]
  },
  {
   "cell_type": "code",
   "execution_count": 16,
   "metadata": {},
   "outputs": [
    {
     "data": {
      "text/plain": [
       "11"
      ]
     },
     "execution_count": 16,
     "metadata": {},
     "output_type": "execute_result"
    }
   ],
   "source": [
    "ds.row_count"
   ]
  },
  {
   "cell_type": "code",
   "execution_count": 17,
   "metadata": {},
   "outputs": [],
   "source": [
    "r = api.move_column(identifier=dsid, column_id=ds.columns[1].identifier, position=8, datastore=dstore)\n",
    "\n",
    "ds = r.dataset\n",
    "dsid = ds.identifier"
   ]
  },
  {
   "cell_type": "code",
   "execution_count": 18,
   "metadata": {},
   "outputs": [],
   "source": [
    "r = api.move_row(identifier=dsid, rowid=10, position=0, datastore=dstore)\n",
    "\n",
    "ds = r.dataset\n",
    "dsid = ds.identifier"
   ]
  },
  {
   "cell_type": "code",
   "execution_count": 19,
   "metadata": {},
   "outputs": [],
   "source": [
    "r = api.rename_column(identifier=dsid, column_id=ds.columns[-1].identifier, name='nocol', datastore=dstore)\n",
    "\n",
    "ds = r.dataset\n",
    "dsid = ds.identifier"
   ]
  },
  {
   "cell_type": "code",
   "execution_count": 20,
   "metadata": {},
   "outputs": [],
   "source": [
    "r = api.delete_column(identifier=dsid, column_id=ds.columns[-1].identifier, datastore=dstore)\n",
    "\n",
    "ds = r.dataset\n",
    "dsid = ds.identifier"
   ]
  },
  {
   "cell_type": "code",
   "execution_count": 21,
   "metadata": {},
   "outputs": [],
   "source": [
    "r = api.delete_row(identifier=dsid, rowid=10, datastore=dstore)\n",
    "\n",
    "ds = r.dataset\n",
    "dsid = ds.identifier"
   ]
  },
  {
   "cell_type": "code",
   "execution_count": 22,
   "metadata": {},
   "outputs": [],
   "source": [
    "r = api.sort_dataset(\n",
    "    identifier=dsid,\n",
    "    columns=[ds.columns[0].identifier, ds.columns[1].identifier],\n",
    "    reversed=[False, True],\n",
    "    datastore=dstore\n",
    ")\n",
    "\n",
    "ds = r.dataset\n",
    "dsid = ds.identifier"
   ]
  },
  {
   "cell_type": "code",
   "execution_count": 23,
   "metadata": {},
   "outputs": [
    {
     "data": {
      "text/html": [
       "<div>\n",
       "<style scoped>\n",
       "    .dataframe tbody tr th:only-of-type {\n",
       "        vertical-align: middle;\n",
       "    }\n",
       "\n",
       "    .dataframe tbody tr th {\n",
       "        vertical-align: top;\n",
       "    }\n",
       "\n",
       "    .dataframe thead th {\n",
       "        text-align: right;\n",
       "    }\n",
       "</style>\n",
       "<table border=\"1\" class=\"dataframe\">\n",
       "  <thead>\n",
       "    <tr style=\"text-align: right;\">\n",
       "      <th></th>\n",
       "      <th>Calendar Year</th>\n",
       "      <th>Gender</th>\n",
       "      <th>Physical Abuse</th>\n",
       "      <th>Sexual Abuse</th>\n",
       "      <th>Risk of Sexual Abuse</th>\n",
       "      <th>Risk of Harm</th>\n",
       "      <th>Emotional/Neglect</th>\n",
       "    </tr>\n",
       "  </thead>\n",
       "  <tbody>\n",
       "    <tr>\n",
       "      <th>8</th>\n",
       "      <td>2014</td>\n",
       "      <td>Male</td>\n",
       "      <td>88</td>\n",
       "      <td>95</td>\n",
       "      <td>82</td>\n",
       "      <td>196</td>\n",
       "      <td>14</td>\n",
       "    </tr>\n",
       "    <tr>\n",
       "      <th>9</th>\n",
       "      <td>2014</td>\n",
       "      <td>Female</td>\n",
       "      <td>73</td>\n",
       "      <td>285</td>\n",
       "      <td>134</td>\n",
       "      <td>177</td>\n",
       "      <td>17</td>\n",
       "    </tr>\n",
       "    <tr>\n",
       "      <th>6</th>\n",
       "      <td>2015</td>\n",
       "      <td>Male</td>\n",
       "      <td>105</td>\n",
       "      <td>63</td>\n",
       "      <td>61</td>\n",
       "      <td>212</td>\n",
       "      <td>24</td>\n",
       "    </tr>\n",
       "    <tr>\n",
       "      <th>7</th>\n",
       "      <td>2015</td>\n",
       "      <td>Female</td>\n",
       "      <td>66</td>\n",
       "      <td>275</td>\n",
       "      <td>89</td>\n",
       "      <td>207</td>\n",
       "      <td>27</td>\n",
       "    </tr>\n",
       "    <tr>\n",
       "      <th>4</th>\n",
       "      <td>2016</td>\n",
       "      <td>Male</td>\n",
       "      <td>76</td>\n",
       "      <td>52</td>\n",
       "      <td>47</td>\n",
       "      <td>212</td>\n",
       "      <td>17</td>\n",
       "    </tr>\n",
       "    <tr>\n",
       "      <th>5</th>\n",
       "      <td>2016</td>\n",
       "      <td>Female</td>\n",
       "      <td>57</td>\n",
       "      <td>259</td>\n",
       "      <td>68</td>\n",
       "      <td>216</td>\n",
       "      <td>20</td>\n",
       "    </tr>\n",
       "    <tr>\n",
       "      <th>2</th>\n",
       "      <td>2017</td>\n",
       "      <td>Male</td>\n",
       "      <td>89</td>\n",
       "      <td>62</td>\n",
       "      <td>47</td>\n",
       "      <td>267</td>\n",
       "      <td>17</td>\n",
       "    </tr>\n",
       "    <tr>\n",
       "      <th>3</th>\n",
       "      <td>2017</td>\n",
       "      <td>Female</td>\n",
       "      <td>70</td>\n",
       "      <td>286</td>\n",
       "      <td>36</td>\n",
       "      <td>244</td>\n",
       "      <td>18</td>\n",
       "    </tr>\n",
       "    <tr>\n",
       "      <th>0</th>\n",
       "      <td>2018</td>\n",
       "      <td>Male</td>\n",
       "      <td>98</td>\n",
       "      <td>60</td>\n",
       "      <td>21</td>\n",
       "      <td>293</td>\n",
       "      <td>29</td>\n",
       "    </tr>\n",
       "    <tr>\n",
       "      <th>1</th>\n",
       "      <td>2018</td>\n",
       "      <td>Female</td>\n",
       "      <td>69</td>\n",
       "      <td>306</td>\n",
       "      <td>54</td>\n",
       "      <td>253</td>\n",
       "      <td>29</td>\n",
       "    </tr>\n",
       "  </tbody>\n",
       "</table>\n",
       "</div>"
      ],
      "text/plain": [
       "   Calendar Year  Gender  Physical Abuse  Sexual Abuse  Risk of Sexual Abuse  \\\n",
       "8           2014    Male              88            95                    82   \n",
       "9           2014  Female              73           285                   134   \n",
       "6           2015    Male             105            63                    61   \n",
       "7           2015  Female              66           275                    89   \n",
       "4           2016    Male              76            52                    47   \n",
       "5           2016  Female              57           259                    68   \n",
       "2           2017    Male              89            62                    47   \n",
       "3           2017  Female              70           286                    36   \n",
       "0           2018    Male              98            60                    21   \n",
       "1           2018  Female              69           306                    54   \n",
       "\n",
       "   Risk of Harm  Emotional/Neglect  \n",
       "8           196                 14  \n",
       "9           177                 17  \n",
       "6           212                 24  \n",
       "7           207                 27  \n",
       "4           212                 17  \n",
       "5           216                 20  \n",
       "2           267                 17  \n",
       "3           244                 18  \n",
       "0           293                 29  \n",
       "1           253                 29  "
      ]
     },
     "execution_count": 23,
     "metadata": {},
     "output_type": "execute_result"
    }
   ],
   "source": [
    "ds.to_dataframe()"
   ]
  },
  {
   "cell_type": "code",
   "execution_count": 24,
   "metadata": {},
   "outputs": [],
   "source": [
    "r = api.update_cell(identifier=dsid, column_id=ds.columns[2].identifier, row_id=9, value=99, datastore=dstore)\n",
    "\n",
    "ds = r.dataset\n",
    "dsid = ds.identifier"
   ]
  },
  {
   "cell_type": "code",
   "execution_count": 25,
   "metadata": {},
   "outputs": [],
   "source": [
    "r = api.filter_columns(\n",
    "    identifier=dsid,\n",
    "    columns=[ds.columns[0].identifier, ds.columns[1].identifier, ds.columns[2].identifier],\n",
    "    names=['Year', 'Gender', 'Abuse'],\n",
    "    datastore=dstore,\n",
    ")\n",
    "\n",
    "ds = r.dataset\n",
    "dsid = ds.identifier"
   ]
  },
  {
   "cell_type": "code",
   "execution_count": 26,
   "metadata": {},
   "outputs": [
    {
     "data": {
      "text/html": [
       "<div>\n",
       "<style scoped>\n",
       "    .dataframe tbody tr th:only-of-type {\n",
       "        vertical-align: middle;\n",
       "    }\n",
       "\n",
       "    .dataframe tbody tr th {\n",
       "        vertical-align: top;\n",
       "    }\n",
       "\n",
       "    .dataframe thead th {\n",
       "        text-align: right;\n",
       "    }\n",
       "</style>\n",
       "<table border=\"1\" class=\"dataframe\">\n",
       "  <thead>\n",
       "    <tr style=\"text-align: right;\">\n",
       "      <th></th>\n",
       "      <th>Year</th>\n",
       "      <th>Gender</th>\n",
       "      <th>Abuse</th>\n",
       "    </tr>\n",
       "  </thead>\n",
       "  <tbody>\n",
       "    <tr>\n",
       "      <th>8</th>\n",
       "      <td>2014</td>\n",
       "      <td>Male</td>\n",
       "      <td>88</td>\n",
       "    </tr>\n",
       "    <tr>\n",
       "      <th>9</th>\n",
       "      <td>2014</td>\n",
       "      <td>Female</td>\n",
       "      <td>99</td>\n",
       "    </tr>\n",
       "    <tr>\n",
       "      <th>6</th>\n",
       "      <td>2015</td>\n",
       "      <td>Male</td>\n",
       "      <td>105</td>\n",
       "    </tr>\n",
       "    <tr>\n",
       "      <th>7</th>\n",
       "      <td>2015</td>\n",
       "      <td>Female</td>\n",
       "      <td>66</td>\n",
       "    </tr>\n",
       "    <tr>\n",
       "      <th>4</th>\n",
       "      <td>2016</td>\n",
       "      <td>Male</td>\n",
       "      <td>76</td>\n",
       "    </tr>\n",
       "    <tr>\n",
       "      <th>5</th>\n",
       "      <td>2016</td>\n",
       "      <td>Female</td>\n",
       "      <td>57</td>\n",
       "    </tr>\n",
       "    <tr>\n",
       "      <th>2</th>\n",
       "      <td>2017</td>\n",
       "      <td>Male</td>\n",
       "      <td>89</td>\n",
       "    </tr>\n",
       "    <tr>\n",
       "      <th>3</th>\n",
       "      <td>2017</td>\n",
       "      <td>Female</td>\n",
       "      <td>70</td>\n",
       "    </tr>\n",
       "    <tr>\n",
       "      <th>0</th>\n",
       "      <td>2018</td>\n",
       "      <td>Male</td>\n",
       "      <td>98</td>\n",
       "    </tr>\n",
       "    <tr>\n",
       "      <th>1</th>\n",
       "      <td>2018</td>\n",
       "      <td>Female</td>\n",
       "      <td>69</td>\n",
       "    </tr>\n",
       "  </tbody>\n",
       "</table>\n",
       "</div>"
      ],
      "text/plain": [
       "   Year  Gender  Abuse\n",
       "8  2014    Male     88\n",
       "9  2014  Female     99\n",
       "6  2015    Male    105\n",
       "7  2015  Female     66\n",
       "4  2016    Male     76\n",
       "5  2016  Female     57\n",
       "2  2017    Male     89\n",
       "3  2017  Female     70\n",
       "0  2018    Male     98\n",
       "1  2018  Female     69"
      ]
     },
     "execution_count": 26,
     "metadata": {},
     "output_type": "execute_result"
    }
   ],
   "source": [
    "ds.to_dataframe()"
   ]
  },
  {
   "cell_type": "code",
   "execution_count": 27,
   "metadata": {},
   "outputs": [],
   "source": [
    "# Clean up the temp directory\n",
    "import shutil\n",
    "\n",
    "shutil.rmtree(TMP_DIR)"
   ]
  },
  {
   "cell_type": "code",
   "execution_count": null,
   "metadata": {},
   "outputs": [],
   "source": []
  }
 ],
 "metadata": {
  "kernelspec": {
   "display_name": "Python 3",
   "language": "python",
   "name": "python3"
  },
  "language_info": {
   "codemirror_mode": {
    "name": "ipython",
    "version": 3
   },
   "file_extension": ".py",
   "mimetype": "text/x-python",
   "name": "python",
   "nbconvert_exporter": "python",
   "pygments_lexer": "ipython3",
   "version": "3.8.3"
  }
 },
 "nbformat": 4,
 "nbformat_minor": 4
}
